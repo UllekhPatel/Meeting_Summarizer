{
  "nbformat": 4,
  "nbformat_minor": 0,
  "metadata": {
    "colab": {
      "provenance": []
    },
    "kernelspec": {
      "name": "python3",
      "display_name": "Python 3"
    },
    "language_info": {
      "name": "python"
    }
  },
  "cells": [
    {
      "cell_type": "markdown",
      "source": [
        "# Om Patel I044 B2 70122100093\n",
        "\n",
        "\n",
        "---\n",
        "\n",
        "# Ullekh Patel I043 B2 70122100094"
      ],
      "metadata": {
        "id": "DQIN6x9O9Fis"
      }
    },
    {
      "cell_type": "markdown",
      "source": [
        "# Meeting Summarizer"
      ],
      "metadata": {
        "id": "V7E2niEr9lWC"
      }
    },
    {
      "cell_type": "code",
      "source": [
        "!pip install rouge"
      ],
      "metadata": {
        "colab": {
          "base_uri": "https://localhost:8080/"
        },
        "id": "nGGOHbBD0WDx",
        "outputId": "1e951dfc-859b-413e-e332-e91639069d34"
      },
      "execution_count": null,
      "outputs": [
        {
          "output_type": "stream",
          "name": "stdout",
          "text": [
            "Collecting rouge\n",
            "  Downloading rouge-1.0.1-py3-none-any.whl (13 kB)\n",
            "Requirement already satisfied: six in /usr/local/lib/python3.10/dist-packages (from rouge) (1.16.0)\n",
            "Installing collected packages: rouge\n",
            "Successfully installed rouge-1.0.1\n"
          ]
        }
      ]
    },
    {
      "cell_type": "code",
      "execution_count": null,
      "metadata": {
        "colab": {
          "base_uri": "https://localhost:8080/"
        },
        "id": "onz1C8xo0Et8",
        "outputId": "af65de69-3536-46ca-ad5c-3b5b8c1e552f"
      },
      "outputs": [
        {
          "output_type": "stream",
          "name": "stderr",
          "text": [
            "[nltk_data] Downloading package punkt to /root/nltk_data...\n",
            "[nltk_data]   Unzipping tokenizers/punkt.zip.\n",
            "[nltk_data] Downloading package stopwords to /root/nltk_data...\n",
            "[nltk_data]   Unzipping corpora/stopwords.zip.\n"
          ]
        },
        {
          "output_type": "execute_result",
          "data": {
            "text/plain": [
              "True"
            ]
          },
          "metadata": {},
          "execution_count": 2
        }
      ],
      "source": [
        "import nltk\n",
        "from nltk.corpus import stopwords\n",
        "from nltk.tokenize import sent_tokenize, word_tokenize\n",
        "from nltk.stem import PorterStemmer\n",
        "from sklearn.feature_extraction.text import TfidfVectorizer\n",
        "from sklearn.metrics.pairwise import cosine_similarity\n",
        "from rouge import Rouge\n",
        "import numpy as np\n",
        "import networkx as nx\n",
        "nltk.download('punkt')\n",
        "nltk.download('stopwords')"
      ]
    },
    {
      "cell_type": "code",
      "source": [
        "# Specify the path to your uploaded .txt file\n",
        "file_path = '/content/Sample Meeting Transcript.txt'\n",
        "\n",
        "# Read the content of the file\n",
        "with open(file_path, 'r') as file:\n",
        "    meeting_transcript = file.read()\n",
        "\n",
        "# Print the content\n",
        "print(meeting_transcript)"
      ],
      "metadata": {
        "colab": {
          "base_uri": "https://localhost:8080/"
        },
        "id": "0UslApl_BSVU",
        "outputId": "5b240048-00ad-4234-f9f3-c6c055e31b79"
      },
      "execution_count": null,
      "outputs": [
        {
          "output_type": "stream",
          "name": "stdout",
          "text": [
            "Chairman Wormsley (at the proper time and place, after taking the chair and striking the gavel on the table): This meeting of the CTAS County Commission will come to order. Clerk please call the role. (Ensure that a majority of the members are present.)\n",
            "\n",
            "Chairman Wormsley: Each of you has received the agenda. I will entertain a motion that the agenda be approved.\n",
            "\n",
            "Commissioner Brown: So moved.\n",
            "\n",
            "Commissioner Hobbs: Seconded\n",
            "\n",
            "Chairman Wormsley: It has been moved and seconded that the agenda be approved as received by the members. All those in favor signify by saying \"Aye\"?...Opposed by saying \"No\"?...The agenda is approved. You have received a copy of the minutes of the last meeting. Are there any corrections or additions to the meeting?\n",
            "\n",
            "Commissioner McCroskey: Mister Chairman, my name has been omitted from the Special Committee on Indigent Care.\n",
            "\n",
            "Chairman Wormsley: Thank you. If there are no objections, the minutes will be corrected to include the name of Commissioner McCroskey. Will the clerk please make this correction. Any further corrections? Seeing none, without objection the minutes will stand approved as read. (This is sort of a short cut way that is commonly used for approval of minutes and/or the agenda rather than requiring a motion and second.)\n",
            "\n",
            "Chairman Wormsley: Commissioner Adkins, the first item on the agenda is yours.\n",
            "\n",
            "Commissioner Adkins: Mister Chairman, I would like to make a motion to approve the resolution taking money from the Data Processing Reserve Account in the County Clerk's office and moving it to the equipment line to purchase a laptop computer.\n",
            "\n",
            "Commissioner Carmical: I second the motion.\n",
            "\n",
            "Chairman Wormsley: This resolution has a motion and second. Will the clerk please take the vote.\n",
            "\n",
            "Chairman Wormsley: The resolution passes. We will now take up old business. At our last meeting, Commissioner McKee, your motion to sell property near the airport was deferred to this meeting. You are recognized.\n",
            "\n",
            "Commissioner McKee: I move to withdraw that motion.\n",
            "\n",
            "Chairman Wormsley: Commissioner McKee has moved to withdraw his motion to sell property near the airport. Seeing no objection, this motion is withdrawn. The next item on the agenda is Commissioner Rodgers'.\n",
            "\n",
            "Commissioner Rodgers: I move adopton of the resolution previously provided to each of you to increase the state match local litigation tax in circuit, chancery, and criminal courts to the maximum amounts permissible. This resolution calls for the increases to go to the general fund.\n",
            "\n",
            "Chairman Wormsley: Commissioner Duckett\n",
            "\n",
            "Commissioner Duckett: The sheriff is opposed to this increase.\n",
            "\n",
            "Chairman Wormsley: Commissioner, you are out of order because this motion has not been seconded as needed before the floor is open for discussion or debate. Discussion will begin after we have a second. Is there a second?\n",
            "\n",
            "Commissioner Reinhart: For purposes of discussion, I second the motion.\n",
            "\n",
            "Chairman Wormsley: Commissioner Rodgers is recognized.\n",
            "\n",
            "Commissioner Rodgers: (Speaks about the data on collections, handing out all sorts of numerical figures regarding the litigation tax, and the county's need for additional revenue.)\n",
            "\n",
            "Chairman Wormsley: Commissioner Duckett\n",
            "\n",
            "Commissioner Duckett: I move an amendment to the motion to require 25 percent of the proceeds from the increase in the tax on criminal cases go to fund the sheriff's department.\n",
            "\n",
            "Chairman Wormsley: Commissioner Malone\n",
            "\n",
            "Commissioner Malone: I second the amendment.\n",
            "\n",
            "Chairman Wormsley: A motion has been made and seconded to amend the motion to increase the state match local litigation taxes to the maximum amounts to require 25 percent of the proceeds from the increase in the tax on criminal cases in courts of record going to fund the sheriff's department. Any discussion? Will all those in favor please raise your hand? All those opposed please raise your hand. The amendment carries 17-2. We are now on the motion as amended. Any further discussion?\n",
            "\n",
            "Commissioner Headrick: Does this require a two-thirds vote?\n",
            "\n",
            "Chairman Wormsley: Will the county attorney answer that question?\n",
            "\n",
            "County Attorney Fults: Since these are only courts of record, a majority vote will pass it. The two-thirds requirement is for the general sessions taxes.\n",
            "\n",
            "Chairman Wormsley: Other questions or discussion? Commissioner Adams.\n",
            "\n",
            "Commissioner Adams: Move for a roll call vote.\n",
            "\n",
            "Commissioner Crenshaw: Second\n",
            "\n",
            "Chairman Wormsley: The motion has been made and seconded that the state match local litigation taxes be increased to the maximum amounts allowed by law with 25 percent of the proceeds from the increase in the tax on criminal cases in courts of record going to fund the sheriff's department. Will all those in favor please vote as the clerk calls your name, those in favor vote \"aye,\" those against vote \"no.\" Nine votes for, nine votes against, one not voting. The increase fails. We are now on new business. Commissioner Adkins, the first item on the agenda is yours.\n",
            "\n",
            "Commissioner Adkins: Each of you has previously received a copy of a resolution to increase the wheel tax by $10 to make up the state cut in education funding. I move adoption of this resolution.\n",
            "\n",
            "Chairman Wormsley: Commissioner Thompson\n",
            "\n",
            "Commissioner Thompson: I second.\n",
            "\n",
            "Chairman Wormsley: It has been properly moved and seconded that a resolution increasing the wheel tax by $10 to make up the state cut in education funding be passed. Any discussion? (At this point numerous county commissioners speak for and against increasing the wheel tax and making up the education cuts. This is the first time this resolution is under consideration.) Commissioner Hayes is recognized.\n",
            "\n",
            "Commissioner Hayes: I move previous question.\n",
            "\n",
            "Commisioner Crenshaw: Second.\n",
            "\n",
            "Chairman Wormsley: Previous question has been moved and seconded. As you know, a motion for previous question, if passed by a two-thirds vote, will cut off further debate and require us to vote yes or no on the resolution before us. You should vote for this motion if you wish to cut off further debate of the wheel tax increase at this point. Will all those in favor of previous question please raise your hand? Will all those against please raise your hand? The vote is 17-2. Previous question passes. We are now on the motion to increase the wheel tax by $10 to make up the state cut in education funding. Will all those in favor please raise your hand? Will all those against please raise your hand? The vote is 17-2. This increase passes on first passage. Is there any other new business? Since no member is seeking recognition, are there announcements? Commissioner Hailey.\n",
            "\n",
            "Commissioner Hailey: There will be a meeting of the Budget Committee to look at solid waste funding recommendations on Tuesday, July 16 at noon here in this room.\n",
            "\n",
            "Chairman Wormsley: Any other announcements? The next meeting of this body will be Monday, August 19 at 7 p.m., here in this room. Commissioner Carmical.\n",
            "\n",
            "Commissioner Carmical: There will be a chili supper at County Elementary School on August 16 at 6:30 p.m. Everyone is invited.\n",
            "\n",
            "Chairman Wormsley: Commissioner Austin.\n",
            "\n",
            "Commissioner Austin: Move adjournment.\n",
            "\n",
            "Commissioner Garland: Second.\n",
            "\n",
            "Chairman Wormsley: Without objection, the meeting will stand adjourned.\n"
          ]
        }
      ]
    },
    {
      "cell_type": "code",
      "source": [
        "# Step 1: Tokenize sentences\n",
        "print(\"Sentences: \")\n",
        "sentences = sent_tokenize(meeting_transcript)\n",
        "print(sentences)"
      ],
      "metadata": {
        "colab": {
          "base_uri": "https://localhost:8080/"
        },
        "id": "fY0gMcPI0df4",
        "outputId": "357b5099-e3c6-4a8b-c2ac-7ee0541441b5"
      },
      "execution_count": null,
      "outputs": [
        {
          "output_type": "stream",
          "name": "stdout",
          "text": [
            "Sentences: \n",
            "['Chairman Wormsley (at the proper time and place, after taking the chair and striking the gavel on the table): This meeting of the CTAS County Commission will come to order.', 'Clerk please call the role.', '(Ensure that a majority of the members are present.)', 'Chairman Wormsley: Each of you has received the agenda.', 'I will entertain a motion that the agenda be approved.', 'Commissioner Brown: So moved.', 'Commissioner Hobbs: Seconded\\n\\nChairman Wormsley: It has been moved and seconded that the agenda be approved as received by the members.', 'All those in favor signify by saying \"Aye\"?...Opposed by saying \"No\"?...The agenda is approved.', 'You have received a copy of the minutes of the last meeting.', 'Are there any corrections or additions to the meeting?', 'Commissioner McCroskey: Mister Chairman, my name has been omitted from the Special Committee on Indigent Care.', 'Chairman Wormsley: Thank you.', 'If there are no objections, the minutes will be corrected to include the name of Commissioner McCroskey.', 'Will the clerk please make this correction.', 'Any further corrections?', 'Seeing none, without objection the minutes will stand approved as read.', '(This is sort of a short cut way that is commonly used for approval of minutes and/or the agenda rather than requiring a motion and second.)', 'Chairman Wormsley: Commissioner Adkins, the first item on the agenda is yours.', \"Commissioner Adkins: Mister Chairman, I would like to make a motion to approve the resolution taking money from the Data Processing Reserve Account in the County Clerk's office and moving it to the equipment line to purchase a laptop computer.\", 'Commissioner Carmical: I second the motion.', 'Chairman Wormsley: This resolution has a motion and second.', 'Will the clerk please take the vote.', 'Chairman Wormsley: The resolution passes.', 'We will now take up old business.', 'At our last meeting, Commissioner McKee, your motion to sell property near the airport was deferred to this meeting.', 'You are recognized.', 'Commissioner McKee: I move to withdraw that motion.', 'Chairman Wormsley: Commissioner McKee has moved to withdraw his motion to sell property near the airport.', 'Seeing no objection, this motion is withdrawn.', \"The next item on the agenda is Commissioner Rodgers'.\", 'Commissioner Rodgers: I move adopton of the resolution previously provided to each of you to increase the state match local litigation tax in circuit, chancery, and criminal courts to the maximum amounts permissible.', 'This resolution calls for the increases to go to the general fund.', 'Chairman Wormsley: Commissioner Duckett\\n\\nCommissioner Duckett: The sheriff is opposed to this increase.', 'Chairman Wormsley: Commissioner, you are out of order because this motion has not been seconded as needed before the floor is open for discussion or debate.', 'Discussion will begin after we have a second.', 'Is there a second?', 'Commissioner Reinhart: For purposes of discussion, I second the motion.', 'Chairman Wormsley: Commissioner Rodgers is recognized.', \"Commissioner Rodgers: (Speaks about the data on collections, handing out all sorts of numerical figures regarding the litigation tax, and the county's need for additional revenue.)\", \"Chairman Wormsley: Commissioner Duckett\\n\\nCommissioner Duckett: I move an amendment to the motion to require 25 percent of the proceeds from the increase in the tax on criminal cases go to fund the sheriff's department.\", 'Chairman Wormsley: Commissioner Malone\\n\\nCommissioner Malone: I second the amendment.', \"Chairman Wormsley: A motion has been made and seconded to amend the motion to increase the state match local litigation taxes to the maximum amounts to require 25 percent of the proceeds from the increase in the tax on criminal cases in courts of record going to fund the sheriff's department.\", 'Any discussion?', 'Will all those in favor please raise your hand?', 'All those opposed please raise your hand.', 'The amendment carries 17-2.', 'We are now on the motion as amended.', 'Any further discussion?', 'Commissioner Headrick: Does this require a two-thirds vote?', 'Chairman Wormsley: Will the county attorney answer that question?', 'County Attorney Fults: Since these are only courts of record, a majority vote will pass it.', 'The two-thirds requirement is for the general sessions taxes.', 'Chairman Wormsley: Other questions or discussion?', 'Commissioner Adams.', 'Commissioner Adams: Move for a roll call vote.', \"Commissioner Crenshaw: Second\\n\\nChairman Wormsley: The motion has been made and seconded that the state match local litigation taxes be increased to the maximum amounts allowed by law with 25 percent of the proceeds from the increase in the tax on criminal cases in courts of record going to fund the sheriff's department.\", 'Will all those in favor please vote as the clerk calls your name, those in favor vote \"aye,\" those against vote \"no.\"', 'Nine votes for, nine votes against, one not voting.', 'The increase fails.', 'We are now on new business.', 'Commissioner Adkins, the first item on the agenda is yours.', 'Commissioner Adkins: Each of you has previously received a copy of a resolution to increase the wheel tax by $10 to make up the state cut in education funding.', 'I move adoption of this resolution.', 'Chairman Wormsley: Commissioner Thompson\\n\\nCommissioner Thompson: I second.', 'Chairman Wormsley: It has been properly moved and seconded that a resolution increasing the wheel tax by $10 to make up the state cut in education funding be passed.', 'Any discussion?', '(At this point numerous county commissioners speak for and against increasing the wheel tax and making up the education cuts.', 'This is the first time this resolution is under consideration.)', 'Commissioner Hayes is recognized.', 'Commissioner Hayes: I move previous question.', 'Commisioner Crenshaw: Second.', 'Chairman Wormsley: Previous question has been moved and seconded.', 'As you know, a motion for previous question, if passed by a two-thirds vote, will cut off further debate and require us to vote yes or no on the resolution before us.', 'You should vote for this motion if you wish to cut off further debate of the wheel tax increase at this point.', 'Will all those in favor of previous question please raise your hand?', 'Will all those against please raise your hand?', 'The vote is 17-2.', 'Previous question passes.', 'We are now on the motion to increase the wheel tax by $10 to make up the state cut in education funding.', 'Will all those in favor please raise your hand?', 'Will all those against please raise your hand?', 'The vote is 17-2.', 'This increase passes on first passage.', 'Is there any other new business?', 'Since no member is seeking recognition, are there announcements?', 'Commissioner Hailey.', 'Commissioner Hailey: There will be a meeting of the Budget Committee to look at solid waste funding recommendations on Tuesday, July 16 at noon here in this room.', 'Chairman Wormsley: Any other announcements?', 'The next meeting of this body will be Monday, August 19 at 7 p.m., here in this room.', 'Commissioner Carmical.', 'Commissioner Carmical: There will be a chili supper at County Elementary School on August 16 at 6:30 p.m. Everyone is invited.', 'Chairman Wormsley: Commissioner Austin.', 'Commissioner Austin: Move adjournment.', 'Commissioner Garland: Second.', 'Chairman Wormsley: Without objection, the meeting will stand adjourned.']\n"
          ]
        }
      ]
    },
    {
      "cell_type": "code",
      "source": [
        "  # Step 2: Extract spoken content and preprocess\n",
        "  print(\"Extracted text: \")\n",
        "  spoken_content = []\n",
        "  for line in meeting_transcript.split('\\n'):\n",
        "      if ':' in line:\n",
        "          speaker, content = line.split(':', 1)\n",
        "          spoken_content.append(content)\n",
        "  print(spoken_content)"
      ],
      "metadata": {
        "colab": {
          "base_uri": "https://localhost:8080/"
        },
        "id": "AtZoKFmy0f_0",
        "outputId": "3a2c378d-9e5d-4627-f589-d1447376100d"
      },
      "execution_count": null,
      "outputs": [
        {
          "output_type": "stream",
          "name": "stdout",
          "text": [
            "Extracted text: \n",
            "[' This meeting of the CTAS County Commission will come to order. Clerk please call the role. (Ensure that a majority of the members are present.)', ' Each of you has received the agenda. I will entertain a motion that the agenda be approved.', ' So moved.', ' Seconded', ' It has been moved and seconded that the agenda be approved as received by the members. All those in favor signify by saying \"Aye\"?...Opposed by saying \"No\"?...The agenda is approved. You have received a copy of the minutes of the last meeting. Are there any corrections or additions to the meeting?', ' Mister Chairman, my name has been omitted from the Special Committee on Indigent Care.', ' Thank you. If there are no objections, the minutes will be corrected to include the name of Commissioner McCroskey. Will the clerk please make this correction. Any further corrections? Seeing none, without objection the minutes will stand approved as read. (This is sort of a short cut way that is commonly used for approval of minutes and/or the agenda rather than requiring a motion and second.)', ' Commissioner Adkins, the first item on the agenda is yours.', \" Mister Chairman, I would like to make a motion to approve the resolution taking money from the Data Processing Reserve Account in the County Clerk's office and moving it to the equipment line to purchase a laptop computer.\", ' I second the motion.', ' This resolution has a motion and second. Will the clerk please take the vote.', ' The resolution passes. We will now take up old business. At our last meeting, Commissioner McKee, your motion to sell property near the airport was deferred to this meeting. You are recognized.', ' I move to withdraw that motion.', \" Commissioner McKee has moved to withdraw his motion to sell property near the airport. Seeing no objection, this motion is withdrawn. The next item on the agenda is Commissioner Rodgers'.\", ' I move adopton of the resolution previously provided to each of you to increase the state match local litigation tax in circuit, chancery, and criminal courts to the maximum amounts permissible. This resolution calls for the increases to go to the general fund.', ' Commissioner Duckett', ' The sheriff is opposed to this increase.', ' Commissioner, you are out of order because this motion has not been seconded as needed before the floor is open for discussion or debate. Discussion will begin after we have a second. Is there a second?', ' For purposes of discussion, I second the motion.', ' Commissioner Rodgers is recognized.', \" (Speaks about the data on collections, handing out all sorts of numerical figures regarding the litigation tax, and the county's need for additional revenue.)\", ' Commissioner Duckett', \" I move an amendment to the motion to require 25 percent of the proceeds from the increase in the tax on criminal cases go to fund the sheriff's department.\", ' Commissioner Malone', ' I second the amendment.', \" A motion has been made and seconded to amend the motion to increase the state match local litigation taxes to the maximum amounts to require 25 percent of the proceeds from the increase in the tax on criminal cases in courts of record going to fund the sheriff's department. Any discussion? Will all those in favor please raise your hand? All those opposed please raise your hand. The amendment carries 17-2. We are now on the motion as amended. Any further discussion?\", ' Does this require a two-thirds vote?', ' Will the county attorney answer that question?', ' Since these are only courts of record, a majority vote will pass it. The two-thirds requirement is for the general sessions taxes.', ' Other questions or discussion? Commissioner Adams.', ' Move for a roll call vote.', ' Second', ' The motion has been made and seconded that the state match local litigation taxes be increased to the maximum amounts allowed by law with 25 percent of the proceeds from the increase in the tax on criminal cases in courts of record going to fund the sheriff\\'s department. Will all those in favor please vote as the clerk calls your name, those in favor vote \"aye,\" those against vote \"no.\" Nine votes for, nine votes against, one not voting. The increase fails. We are now on new business. Commissioner Adkins, the first item on the agenda is yours.', ' Each of you has previously received a copy of a resolution to increase the wheel tax by $10 to make up the state cut in education funding. I move adoption of this resolution.', ' Commissioner Thompson', ' I second.', ' It has been properly moved and seconded that a resolution increasing the wheel tax by $10 to make up the state cut in education funding be passed. Any discussion? (At this point numerous county commissioners speak for and against increasing the wheel tax and making up the education cuts. This is the first time this resolution is under consideration.) Commissioner Hayes is recognized.', ' I move previous question.', ' Second.', ' Previous question has been moved and seconded. As you know, a motion for previous question, if passed by a two-thirds vote, will cut off further debate and require us to vote yes or no on the resolution before us. You should vote for this motion if you wish to cut off further debate of the wheel tax increase at this point. Will all those in favor of previous question please raise your hand? Will all those against please raise your hand? The vote is 17-2. Previous question passes. We are now on the motion to increase the wheel tax by $10 to make up the state cut in education funding. Will all those in favor please raise your hand? Will all those against please raise your hand? The vote is 17-2. This increase passes on first passage. Is there any other new business? Since no member is seeking recognition, are there announcements? Commissioner Hailey.', ' There will be a meeting of the Budget Committee to look at solid waste funding recommendations on Tuesday, July 16 at noon here in this room.', ' Any other announcements? The next meeting of this body will be Monday, August 19 at 7 p.m., here in this room. Commissioner Carmical.', ' There will be a chili supper at County Elementary School on August 16 at 6:30 p.m. Everyone is invited.', ' Commissioner Austin.', ' Move adjournment.', ' Second.', ' Without objection, the meeting will stand adjourned.']\n"
          ]
        }
      ]
    },
    {
      "cell_type": "code",
      "source": [
        "# Step 3: Define the Porter Stemmer\n",
        "print(\"Preprocessed sentences: \")\n",
        "stemmer = PorterStemmer()\n",
        "def preprocess_text(text):\n",
        "    words = word_tokenize(text)\n",
        "    words = [word.lower() for word in words if word.isalnum()]\n",
        "    words = [stemmer.stem(word) for word in words]\n",
        "    words = [word for word in words if word not in stopwords.words('english')]\n",
        "    return \" \".join(words)\n",
        "preprocessed_sentences = [preprocess_text(content) for content in spoken_content]\n",
        "print(preprocessed_sentences)"
      ],
      "metadata": {
        "colab": {
          "base_uri": "https://localhost:8080/"
        },
        "id": "SsM95Cfu1M2W",
        "outputId": "e5e29565-d342-4f93-8250-e456cbd972c6"
      },
      "execution_count": null,
      "outputs": [
        {
          "output_type": "stream",
          "name": "stdout",
          "text": [
            "Preprocessed sentences: \n",
            "['thi meet cta counti commiss come order clerk pleas call role ensur major member present', 'ha receiv agenda entertain motion agenda approv', 'move', 'second', 'ha move second agenda approv receiv member favor signifi say aye oppos say agenda approv receiv copi minut last meet ani correct addit meet', 'mister chairman name ha omit special committe indig care', 'thank object minut correct includ name commission mccroskey clerk pleas make thi correct ani correct see none without object minut stand approv read thi sort short cut way commonli use approv minut agenda rather requir motion second', 'commission adkin first item agenda', 'mister chairman would like make motion approv resolut take money data process reserv account counti clerk offic move equip line purchas laptop comput', 'second motion', 'thi resolut ha motion second clerk pleas take vote', 'resolut pass take old busi last meet commission mckee motion sell properti near airport wa defer thi meet recogn', 'move withdraw motion', 'commission mckee ha move withdraw hi motion sell properti near airport see object thi motion withdrawn next item agenda commission rodger', 'move adopton resolut previous provid increas state match local litig tax circuit chanceri crimin court maximum amount permiss thi resolut call increas go gener fund', 'commission duckett', 'sheriff oppos thi increas', 'commission order becaus thi motion ha second need befor floor open discuss debat discuss begin second second', 'purpos discuss second motion', 'commission rodger recogn', 'speak data collect hand sort numer figur regard litig tax counti need addit revenu', 'commission duckett', 'move amend motion requir 25 percent proce increas tax crimin case go fund sheriff depart', 'commission malon', 'second amend', 'motion ha made second amend motion increas state match local litig tax maximum amount requir 25 percent proce increas tax crimin case court record go fund sheriff depart ani discuss favor pleas rais hand oppos pleas rais hand amend carri motion amend ani discuss', 'doe thi requir vote', 'counti attorney answer question', 'sinc onli court record major vote pass requir gener session tax', 'question discuss commission adam', 'move roll call vote', 'second', 'motion ha made second state match local litig tax increas maximum amount allow law 25 percent proce increas tax crimin case court record go fund sheriff depart favor pleas vote clerk call name favor vote aye vote nine vote nine vote one vote increas fail new busi commission adkin first item agenda', 'ha previous receiv copi resolut increas wheel tax 10 make state cut educ fund move adopt thi resolut', 'commission thompson', 'second', 'ha properli move second resolut increas wheel tax 10 make state cut educ fund pass ani discuss thi point numer counti commission speak increas wheel tax make educ cut thi first time thi resolut consider commission hay recogn', 'move previou question', 'second', 'previou question ha move second know motion previou question pass vote cut debat requir us vote ye resolut befor us vote thi motion wish cut debat wheel tax increas thi point favor previou question pleas rais hand pleas rais hand vote previou question pass motion increas wheel tax 10 make state cut educ fund favor pleas rais hand pleas rais hand vote thi increas pass first passag ani new busi sinc member seek recognit announc commission hailey', 'meet budget committe look solid wast fund recommend tuesday juli 16 noon thi room', 'ani announc next meet thi bodi monday august 19 7 thi room commission carmic', 'chili supper counti elementari school august 16 everyon invit', 'commission austin', 'move adjourn', 'second', 'without object meet stand adjourn']\n"
          ]
        }
      ]
    },
    {
      "cell_type": "code",
      "source": [
        "# Step 4: Calculate TF-IDF scores for words in sentences\n",
        "tfidf_vectorizer = TfidfVectorizer()\n",
        "tfidf_matrix = tfidf_vectorizer.fit_transform(preprocessed_sentences)\n",
        "tfidf_scores = np.sum(tfidf_matrix, axis=1)\n",
        "print(\"# TF-IDF matrix:\")\n",
        "print(tfidf_matrix.toarray())\n",
        "print(\"\\n\")\n",
        "print(\"# TF-IDF scores:\")\n",
        "for score in tfidf_scores:\n",
        "    print(score[0], end=', ')\n",
        "print()"
      ],
      "metadata": {
        "colab": {
          "base_uri": "https://localhost:8080/"
        },
        "id": "KObm_mar0pGY",
        "outputId": "4ebd9973-7c89-410f-fc75-159a574b27d9"
      },
      "execution_count": null,
      "outputs": [
        {
          "output_type": "stream",
          "name": "stdout",
          "text": [
            "# TF-IDF matrix:\n",
            "[[0.         0.         0.         ... 0.         0.         0.        ]\n",
            " [0.         0.         0.         ... 0.         0.         0.        ]\n",
            " [0.         0.         0.         ... 0.         0.         0.        ]\n",
            " ...\n",
            " [0.         0.         0.         ... 0.         0.         0.        ]\n",
            " [0.         0.         0.         ... 0.         0.         0.        ]\n",
            " [0.         0.         0.         ... 0.47380283 0.         0.        ]]\n",
            "\n",
            "\n",
            "# TF-IDF scores:\n",
            "[[3.8145166]], [[2.31513663]], [[1.]], [[1.]], [[4.05690679]], [[2.96921304]], [[4.8918752]], [[2.19556747]], [[4.72263707]], [[1.41358635]], [[2.95470946]], [[4.12108032]], [[1.67095236]], [[4.29184303]], [[4.67298889]], [[1.35511989]], [[1.96893346]], [[3.55126967]], [[1.91585659]], [[1.68230897]], [[3.71189095]], [[1.35511989]], [[3.82896217]], [[1.3371843]], [[1.3680438]], [[5.30941917]], [[1.94602075]], [[1.97708486]], [[3.2823598]], [[1.94384647]], [[1.95229925]], [[1.]], [[5.52756176]], [[3.99903022]], [[1.3371843]], [[1.]], [[5.00071498]], [[1.69595502]], [[1.]], [[5.48411938]], [[3.68752697]], [[3.40883495]], [[2.98488334]], [[1.3371843]], [[1.3698553]], [[1.]], [[2.22647098]], \n"
          ]
        }
      ]
    },
    {
      "cell_type": "code",
      "source": [
        "# Step 5: Create a graph based on cosine similarity between sentences\n",
        "num_sentences = len(spoken_content)\n",
        "similarity_matrix = cosine_similarity(tfidf_matrix)\n",
        "graph = nx.Graph()\n",
        "for i in range(num_sentences):\n",
        "    for j in range(i + 1, num_sentences):\n",
        "        similarity = similarity_matrix[i][j]\n",
        "        graph.add_edge(i, j, weight=similarity)\n",
        "# Display adjacency matrix of the graph\n",
        "adjacency_matrix = nx.adjacency_matrix(graph)\n",
        "print(\"Adjacency matrix of the graph:\")\n",
        "for row in adjacency_matrix.toarray():\n",
        "    print(\" \".join([\"%.2f\" % val for val in row]))"
      ],
      "metadata": {
        "colab": {
          "base_uri": "https://localhost:8080/"
        },
        "id": "MoO-obgZ1TX_",
        "outputId": "4060981f-c6a7-4da9-8c08-183af93a100f"
      },
      "execution_count": null,
      "outputs": [
        {
          "output_type": "stream",
          "name": "stdout",
          "text": [
            "Adjacency matrix of the graph:\n",
            "0.00 0.00 0.00 0.00 0.11 0.00 0.07 0.00 0.07 0.00 0.20 0.10 0.00 0.02 0.06 0.00 0.06 0.09 0.00 0.00 0.04 0.00 0.00 0.00 0.00 0.05 0.05 0.08 0.09 0.00 0.12 0.00 0.07 0.02 0.00 0.00 0.07 0.00 0.00 0.09 0.07 0.10 0.05 0.00 0.00 0.00 0.08\n",
            "0.00 0.00 0.00 0.00 0.47 0.05 0.18 0.26 0.09 0.17 0.14 0.03 0.10 0.22 0.00 0.00 0.00 0.08 0.08 0.00 0.00 0.00 0.04 0.00 0.00 0.08 0.00 0.00 0.00 0.00 0.00 0.00 0.10 0.14 0.00 0.00 0.03 0.00 0.00 0.05 0.00 0.00 0.00 0.00 0.00 0.00 0.00\n",
            "0.00 0.00 0.00 0.00 0.11 0.00 0.00 0.00 0.12 0.00 0.00 0.00 0.46 0.14 0.13 0.00 0.00 0.00 0.00 0.00 0.00 0.00 0.19 0.00 0.00 0.00 0.00 0.00 0.00 0.00 0.35 0.00 0.00 0.16 0.00 0.00 0.10 0.41 0.00 0.05 0.00 0.00 0.00 0.00 0.51 0.00 0.00\n",
            "0.00 0.00 0.00 0.00 0.10 0.00 0.08 0.00 0.00 0.69 0.25 0.00 0.00 0.00 0.00 0.00 0.00 0.41 0.34 0.00 0.00 0.00 0.00 0.00 0.50 0.08 0.00 0.00 0.00 0.00 0.00 1.00 0.07 0.00 0.00 1.00 0.09 0.00 1.00 0.04 0.00 0.00 0.00 0.00 0.00 1.00 0.00\n",
            "0.11 0.47 0.11 0.10 0.00 0.03 0.30 0.12 0.07 0.07 0.06 0.16 0.05 0.09 0.01 0.00 0.10 0.06 0.04 0.00 0.05 0.00 0.02 0.00 0.05 0.10 0.00 0.00 0.00 0.00 0.04 0.10 0.10 0.18 0.00 0.10 0.05 0.05 0.10 0.06 0.06 0.10 0.00 0.00 0.06 0.10 0.11\n",
            "0.00 0.05 0.00 0.00 0.03 0.00 0.04 0.00 0.14 0.00 0.06 0.00 0.00 0.03 0.00 0.00 0.00 0.03 0.00 0.00 0.00 0.00 0.00 0.00 0.00 0.02 0.00 0.00 0.00 0.00 0.00 0.00 0.05 0.04 0.00 0.00 0.02 0.00 0.00 0.01 0.09 0.00 0.00 0.00 0.00 0.00 0.00\n",
            "0.07 0.18 0.00 0.08 0.30 0.04 0.00 0.07 0.10 0.11 0.17 0.04 0.04 0.18 0.02 0.04 0.06 0.08 0.06 0.03 0.04 0.04 0.04 0.03 0.04 0.09 0.11 0.00 0.03 0.02 0.00 0.08 0.06 0.08 0.03 0.08 0.15 0.00 0.08 0.12 0.03 0.09 0.00 0.03 0.00 0.08 0.25\n",
            "0.00 0.26 0.00 0.00 0.12 0.00 0.07 0.00 0.00 0.00 0.00 0.04 0.00 0.26 0.00 0.14 0.00 0.04 0.00 0.11 0.00 0.14 0.00 0.13 0.00 0.00 0.00 0.00 0.00 0.09 0.00 0.00 0.23 0.00 0.13 0.00 0.12 0.00 0.00 0.05 0.00 0.05 0.00 0.13 0.00 0.00 0.00\n",
            "0.07 0.09 0.12 0.00 0.07 0.14 0.10 0.00 0.00 0.09 0.24 0.09 0.11 0.05 0.07 0.00 0.00 0.02 0.04 0.00 0.09 0.00 0.05 0.00 0.00 0.03 0.00 0.07 0.00 0.00 0.04 0.00 0.03 0.12 0.00 0.00 0.12 0.05 0.00 0.04 0.00 0.00 0.04 0.00 0.06 0.00 0.00\n",
            "0.00 0.17 0.00 0.69 0.07 0.00 0.11 0.00 0.09 0.00 0.37 0.10 0.32 0.20 0.00 0.00 0.00 0.39 0.50 0.00 0.00 0.00 0.13 0.00 0.35 0.23 0.00 0.00 0.00 0.00 0.00 0.69 0.10 0.00 0.00 0.69 0.06 0.00 0.69 0.13 0.00 0.00 0.00 0.00 0.00 0.69 0.00\n",
            "0.20 0.14 0.00 0.25 0.06 0.06 0.17 0.00 0.24 0.37 0.00 0.23 0.12 0.15 0.14 0.00 0.10 0.23 0.18 0.00 0.00 0.00 0.05 0.00 0.13 0.19 0.26 0.00 0.09 0.00 0.16 0.25 0.34 0.23 0.00 0.25 0.21 0.00 0.25 0.33 0.04 0.09 0.00 0.00 0.00 0.25 0.00\n",
            "0.10 0.03 0.00 0.00 0.16 0.00 0.04 0.04 0.09 0.10 0.23 0.00 0.06 0.38 0.07 0.06 0.05 0.06 0.05 0.19 0.00 0.06 0.03 0.06 0.00 0.03 0.05 0.00 0.06 0.04 0.00 0.00 0.04 0.09 0.06 0.00 0.17 0.00 0.00 0.12 0.10 0.15 0.00 0.06 0.00 0.00 0.14\n",
            "0.00 0.10 0.46 0.00 0.05 0.00 0.04 0.00 0.11 0.32 0.12 0.06 0.00 0.37 0.06 0.00 0.00 0.06 0.16 0.00 0.00 0.00 0.16 0.00 0.00 0.11 0.00 0.00 0.00 0.00 0.16 0.00 0.03 0.07 0.00 0.00 0.04 0.19 0.00 0.09 0.00 0.00 0.00 0.00 0.23 0.00 0.00\n",
            "0.02 0.22 0.14 0.00 0.09 0.03 0.18 0.26 0.05 0.20 0.15 0.38 0.37 0.00 0.03 0.12 0.05 0.12 0.10 0.26 0.00 0.12 0.08 0.11 0.00 0.08 0.05 0.00 0.00 0.08 0.05 0.00 0.09 0.07 0.11 0.00 0.11 0.06 0.00 0.09 0.02 0.16 0.00 0.11 0.07 0.00 0.10\n",
            "0.06 0.00 0.13 0.00 0.01 0.00 0.02 0.00 0.07 0.00 0.14 0.07 0.06 0.03 0.00 0.00 0.18 0.02 0.00 0.00 0.07 0.00 0.26 0.00 0.00 0.32 0.04 0.00 0.15 0.00 0.14 0.00 0.32 0.38 0.00 0.00 0.26 0.05 0.00 0.13 0.05 0.04 0.00 0.00 0.06 0.00 0.00\n",
            "0.00 0.00 0.00 0.00 0.00 0.00 0.04 0.14 0.00 0.00 0.00 0.06 0.00 0.12 0.00 0.00 0.00 0.07 0.00 0.18 0.00 1.00 0.00 0.21 0.00 0.00 0.00 0.00 0.00 0.15 0.00 0.00 0.03 0.00 0.21 0.00 0.08 0.00 0.00 0.02 0.00 0.08 0.00 0.21 0.00 0.00 0.00\n",
            "0.06 0.00 0.00 0.00 0.10 0.00 0.06 0.00 0.00 0.00 0.10 0.05 0.00 0.05 0.18 0.00 0.00 0.05 0.00 0.00 0.00 0.00 0.25 0.00 0.00 0.24 0.13 0.00 0.00 0.00 0.00 0.00 0.18 0.15 0.00 0.00 0.21 0.00 0.00 0.13 0.06 0.12 0.00 0.00 0.00 0.00 0.00\n",
            "0.09 0.08 0.00 0.41 0.06 0.03 0.08 0.04 0.02 0.39 0.23 0.06 0.06 0.12 0.02 0.07 0.05 0.00 0.41 0.05 0.07 0.07 0.03 0.06 0.21 0.18 0.05 0.00 0.00 0.24 0.00 0.41 0.06 0.05 0.06 0.41 0.17 0.00 0.41 0.14 0.02 0.07 0.00 0.06 0.00 0.41 0.00\n",
            "0.00 0.08 0.00 0.34 0.04 0.00 0.06 0.00 0.04 0.50 0.18 0.05 0.16 0.10 0.00 0.00 0.00 0.41 0.00 0.00 0.00 0.00 0.07 0.00 0.17 0.24 0.00 0.00 0.00 0.25 0.00 0.34 0.05 0.00 0.00 0.34 0.10 0.00 0.34 0.07 0.00 0.00 0.00 0.00 0.00 0.34 0.00\n",
            "0.00 0.00 0.00 0.00 0.00 0.00 0.03 0.11 0.00 0.00 0.00 0.19 0.00 0.26 0.00 0.18 0.00 0.05 0.00 0.00 0.00 0.18 0.00 0.16 0.00 0.00 0.00 0.00 0.00 0.12 0.00 0.00 0.02 0.00 0.16 0.00 0.16 0.00 0.00 0.02 0.00 0.06 0.00 0.16 0.00 0.00 0.00\n",
            "0.04 0.00 0.00 0.00 0.05 0.00 0.04 0.00 0.09 0.00 0.00 0.00 0.00 0.00 0.07 0.00 0.00 0.07 0.00 0.00 0.00 0.00 0.04 0.00 0.00 0.13 0.00 0.08 0.04 0.00 0.00 0.00 0.06 0.03 0.00 0.00 0.16 0.00 0.00 0.10 0.00 0.00 0.05 0.00 0.00 0.00 0.00\n",
            "0.00 0.00 0.00 0.00 0.00 0.00 0.04 0.14 0.00 0.00 0.00 0.06 0.00 0.12 0.00 1.00 0.00 0.07 0.00 0.18 0.00 0.00 0.00 0.21 0.00 0.00 0.00 0.00 0.00 0.15 0.00 0.00 0.03 0.00 0.21 0.00 0.08 0.00 0.00 0.02 0.00 0.08 0.00 0.21 0.00 0.00 0.00\n",
            "0.00 0.04 0.19 0.00 0.02 0.00 0.04 0.00 0.05 0.13 0.05 0.03 0.16 0.08 0.26 0.00 0.25 0.03 0.07 0.00 0.04 0.00 0.00 0.00 0.25 0.59 0.11 0.00 0.11 0.00 0.06 0.00 0.38 0.16 0.00 0.00 0.14 0.08 0.00 0.13 0.04 0.00 0.00 0.00 0.09 0.00 0.00\n",
            "0.00 0.00 0.00 0.00 0.00 0.00 0.03 0.13 0.00 0.00 0.00 0.06 0.00 0.11 0.00 0.21 0.00 0.06 0.00 0.16 0.00 0.21 0.00 0.00 0.00 0.00 0.00 0.00 0.00 0.14 0.00 0.00 0.03 0.00 0.19 0.00 0.08 0.00 0.00 0.02 0.00 0.07 0.00 0.19 0.00 0.00 0.00\n",
            "0.00 0.00 0.00 0.50 0.05 0.00 0.04 0.00 0.00 0.35 0.13 0.00 0.00 0.00 0.00 0.00 0.00 0.21 0.17 0.00 0.00 0.00 0.25 0.00 0.00 0.39 0.00 0.00 0.00 0.00 0.00 0.50 0.03 0.00 0.00 0.50 0.04 0.00 0.50 0.02 0.00 0.00 0.00 0.00 0.00 0.50 0.00\n",
            "0.05 0.08 0.00 0.08 0.10 0.02 0.09 0.00 0.03 0.23 0.19 0.03 0.11 0.08 0.32 0.00 0.24 0.18 0.24 0.00 0.13 0.00 0.59 0.00 0.39 0.00 0.05 0.00 0.15 0.11 0.00 0.08 0.42 0.14 0.00 0.08 0.19 0.00 0.08 0.39 0.02 0.05 0.00 0.00 0.00 0.08 0.00\n",
            "0.05 0.00 0.00 0.00 0.00 0.00 0.11 0.00 0.00 0.00 0.26 0.05 0.00 0.05 0.04 0.00 0.13 0.05 0.00 0.00 0.00 0.00 0.11 0.00 0.00 0.05 0.00 0.00 0.24 0.00 0.21 0.00 0.27 0.05 0.00 0.00 0.10 0.00 0.00 0.23 0.05 0.12 0.00 0.00 0.00 0.00 0.00\n",
            "0.08 0.00 0.00 0.00 0.00 0.00 0.00 0.00 0.07 0.00 0.00 0.00 0.00 0.00 0.00 0.00 0.00 0.00 0.00 0.00 0.08 0.00 0.00 0.00 0.00 0.00 0.00 0.00 0.00 0.22 0.00 0.00 0.00 0.00 0.00 0.00 0.05 0.26 0.00 0.13 0.00 0.00 0.10 0.00 0.00 0.00 0.00\n",
            "0.09 0.00 0.00 0.00 0.00 0.00 0.03 0.00 0.00 0.00 0.09 0.06 0.00 0.00 0.15 0.00 0.00 0.00 0.00 0.00 0.04 0.00 0.11 0.00 0.00 0.15 0.24 0.00 0.00 0.00 0.11 0.00 0.25 0.04 0.00 0.00 0.09 0.00 0.00 0.21 0.00 0.00 0.00 0.00 0.00 0.00 0.00\n",
            "0.00 0.00 0.00 0.00 0.00 0.00 0.02 0.09 0.00 0.00 0.00 0.04 0.00 0.08 0.00 0.15 0.00 0.24 0.25 0.12 0.00 0.15 0.00 0.14 0.00 0.11 0.00 0.22 0.00 0.00 0.00 0.00 0.02 0.00 0.14 0.00 0.12 0.30 0.00 0.16 0.00 0.05 0.00 0.14 0.00 0.00 0.00\n",
            "0.12 0.00 0.35 0.00 0.04 0.00 0.00 0.00 0.04 0.00 0.16 0.00 0.16 0.05 0.14 0.00 0.00 0.00 0.00 0.00 0.00 0.00 0.06 0.00 0.00 0.00 0.21 0.00 0.11 0.00 0.00 0.00 0.31 0.06 0.00 0.00 0.03 0.14 0.00 0.16 0.00 0.00 0.00 0.00 0.18 0.00 0.00\n",
            "0.00 0.00 0.00 1.00 0.10 0.00 0.08 0.00 0.00 0.69 0.25 0.00 0.00 0.00 0.00 0.00 0.00 0.41 0.34 0.00 0.00 0.00 0.00 0.00 0.50 0.08 0.00 0.00 0.00 0.00 0.00 0.00 0.07 0.00 0.00 1.00 0.09 0.00 1.00 0.04 0.00 0.00 0.00 0.00 0.00 1.00 0.00\n",
            "0.07 0.10 0.00 0.07 0.10 0.05 0.06 0.23 0.03 0.10 0.34 0.04 0.03 0.09 0.32 0.03 0.18 0.06 0.05 0.02 0.06 0.03 0.38 0.03 0.03 0.42 0.27 0.00 0.25 0.02 0.31 0.07 0.00 0.13 0.03 0.07 0.16 0.00 0.07 0.36 0.02 0.01 0.00 0.03 0.00 0.07 0.00\n",
            "0.02 0.14 0.16 0.00 0.18 0.04 0.08 0.00 0.12 0.00 0.23 0.09 0.07 0.07 0.38 0.00 0.15 0.05 0.00 0.00 0.03 0.00 0.16 0.00 0.00 0.14 0.05 0.00 0.04 0.00 0.06 0.00 0.13 0.00 0.00 0.00 0.62 0.07 0.00 0.29 0.06 0.05 0.00 0.00 0.08 0.00 0.00\n",
            "0.00 0.00 0.00 0.00 0.00 0.00 0.03 0.13 0.00 0.00 0.00 0.06 0.00 0.11 0.00 0.21 0.00 0.06 0.00 0.16 0.00 0.21 0.00 0.19 0.00 0.00 0.00 0.00 0.00 0.14 0.00 0.00 0.03 0.00 0.00 0.00 0.08 0.00 0.00 0.02 0.00 0.07 0.00 0.19 0.00 0.00 0.00\n",
            "0.00 0.00 0.00 1.00 0.10 0.00 0.08 0.00 0.00 0.69 0.25 0.00 0.00 0.00 0.00 0.00 0.00 0.41 0.34 0.00 0.00 0.00 0.00 0.00 0.50 0.08 0.00 0.00 0.00 0.00 0.00 1.00 0.07 0.00 0.00 0.00 0.09 0.00 1.00 0.04 0.00 0.00 0.00 0.00 0.00 1.00 0.00\n",
            "0.07 0.03 0.10 0.09 0.05 0.02 0.15 0.12 0.12 0.06 0.21 0.17 0.04 0.11 0.26 0.08 0.21 0.17 0.10 0.16 0.16 0.08 0.14 0.08 0.04 0.19 0.10 0.05 0.09 0.12 0.03 0.09 0.16 0.62 0.08 0.09 0.00 0.04 0.09 0.38 0.06 0.15 0.03 0.08 0.05 0.09 0.00\n",
            "0.00 0.00 0.41 0.00 0.05 0.00 0.00 0.00 0.05 0.00 0.00 0.00 0.19 0.06 0.05 0.00 0.00 0.00 0.00 0.00 0.00 0.00 0.08 0.00 0.00 0.00 0.00 0.26 0.00 0.30 0.14 0.00 0.00 0.07 0.00 0.00 0.04 0.00 0.00 0.42 0.00 0.00 0.00 0.00 0.21 0.00 0.00\n",
            "0.00 0.00 0.00 1.00 0.10 0.00 0.08 0.00 0.00 0.69 0.25 0.00 0.00 0.00 0.00 0.00 0.00 0.41 0.34 0.00 0.00 0.00 0.00 0.00 0.50 0.08 0.00 0.00 0.00 0.00 0.00 1.00 0.07 0.00 0.00 1.00 0.09 0.00 0.00 0.04 0.00 0.00 0.00 0.00 0.00 1.00 0.00\n",
            "0.09 0.05 0.05 0.04 0.06 0.01 0.12 0.05 0.04 0.13 0.33 0.12 0.09 0.09 0.13 0.02 0.13 0.14 0.07 0.02 0.10 0.02 0.13 0.02 0.02 0.39 0.23 0.13 0.21 0.16 0.16 0.04 0.36 0.29 0.02 0.04 0.38 0.42 0.04 0.00 0.03 0.09 0.00 0.02 0.02 0.04 0.00\n",
            "0.07 0.00 0.00 0.00 0.06 0.09 0.03 0.00 0.00 0.00 0.04 0.10 0.00 0.02 0.05 0.00 0.06 0.02 0.00 0.00 0.00 0.00 0.04 0.00 0.00 0.02 0.05 0.00 0.00 0.00 0.00 0.00 0.02 0.06 0.00 0.00 0.06 0.00 0.00 0.03 0.00 0.17 0.08 0.00 0.00 0.00 0.08\n",
            "0.10 0.00 0.00 0.00 0.10 0.00 0.09 0.05 0.00 0.00 0.09 0.15 0.00 0.16 0.04 0.08 0.12 0.07 0.00 0.06 0.00 0.08 0.00 0.07 0.00 0.05 0.12 0.00 0.00 0.05 0.00 0.00 0.01 0.05 0.07 0.00 0.15 0.00 0.00 0.09 0.17 0.00 0.09 0.07 0.00 0.00 0.08\n",
            "0.05 0.00 0.00 0.00 0.00 0.00 0.00 0.00 0.04 0.00 0.00 0.00 0.00 0.00 0.00 0.00 0.00 0.00 0.00 0.00 0.05 0.00 0.00 0.00 0.00 0.00 0.00 0.10 0.00 0.00 0.00 0.00 0.00 0.00 0.00 0.00 0.03 0.00 0.00 0.00 0.08 0.09 0.00 0.00 0.00 0.00 0.00\n",
            "0.00 0.00 0.00 0.00 0.00 0.00 0.03 0.13 0.00 0.00 0.00 0.06 0.00 0.11 0.00 0.21 0.00 0.06 0.00 0.16 0.00 0.21 0.00 0.19 0.00 0.00 0.00 0.00 0.00 0.14 0.00 0.00 0.03 0.00 0.19 0.00 0.08 0.00 0.00 0.02 0.00 0.07 0.00 0.00 0.00 0.00 0.00\n",
            "0.00 0.00 0.51 0.00 0.06 0.00 0.00 0.00 0.06 0.00 0.00 0.00 0.23 0.07 0.06 0.00 0.00 0.00 0.00 0.00 0.00 0.00 0.09 0.00 0.00 0.00 0.00 0.00 0.00 0.00 0.18 0.00 0.00 0.08 0.00 0.00 0.05 0.21 0.00 0.02 0.00 0.00 0.00 0.00 0.00 0.00 0.41\n",
            "0.00 0.00 0.00 1.00 0.10 0.00 0.08 0.00 0.00 0.69 0.25 0.00 0.00 0.00 0.00 0.00 0.00 0.41 0.34 0.00 0.00 0.00 0.00 0.00 0.50 0.08 0.00 0.00 0.00 0.00 0.00 1.00 0.07 0.00 0.00 1.00 0.09 0.00 1.00 0.04 0.00 0.00 0.00 0.00 0.00 0.00 0.00\n",
            "0.08 0.00 0.00 0.00 0.11 0.00 0.25 0.00 0.00 0.00 0.00 0.14 0.00 0.10 0.00 0.00 0.00 0.00 0.00 0.00 0.00 0.00 0.00 0.00 0.00 0.00 0.00 0.00 0.00 0.00 0.00 0.00 0.00 0.00 0.00 0.00 0.00 0.00 0.00 0.00 0.08 0.08 0.00 0.00 0.41 0.00 0.00\n"
          ]
        }
      ]
    },
    {
      "cell_type": "code",
      "source": [
        "# Step 6: Calculate sentence scores using the TextRank algorithm\n",
        "print(\"Scores: \")\n",
        "scores = nx.pagerank(graph, weight='weight')\n",
        "print(scores)"
      ],
      "metadata": {
        "colab": {
          "base_uri": "https://localhost:8080/"
        },
        "id": "0OjIQcJG1XvC",
        "outputId": "04d59a42-30b3-431c-9d1c-ce65dfad90c0"
      },
      "execution_count": null,
      "outputs": [
        {
          "output_type": "stream",
          "name": "stdout",
          "text": [
            "Scores: \n",
            "{0: 0.01450767572139652, 1: 0.016599229263528074, 2: 0.02006278929613026, 3: 0.03258428714524197, 4: 0.02307752192744424, 5: 0.00699645032892675, 6: 0.022471177691333277, 7: 0.016253893986892993, 8: 0.016129538908360757, 9: 0.03507014471269649, 10: 0.034554788513350955, 11: 0.021649394109308166, 12: 0.020566629606599215, 13: 0.030123946017454783, 14: 0.021497568500393208, 15: 0.020403761623060623, 16: 0.01549713160225577, 17: 0.031002185181808174, 18: 0.023695337261981978, 19: 0.015113435132245619, 20: 0.009880578019246779, 21: 0.020403761623060623, 22: 0.023571315481332098, 23: 0.014295088147056441, 24: 0.02219858950064672, 25: 0.03087988027048351, 26: 0.016015422867517934, 27: 0.010280120395414595, 28: 0.012859768580355275, 29: 0.019356690584691496, 30: 0.017277303663408995, 31: 0.03258428714524196, 32: 0.031007140377543478, 33: 0.02439436587764795, 34: 0.014295088147056441, 35: 0.03258428714524196, 36: 0.035516235631576645, 37: 0.0180398364821171, 38: 0.03258428714524196, 39: 0.033806803023559664, 40: 0.011135760719993601, 41: 0.018151553333108618, 42: 0.006586402562859403, 43: 0.014295088147056441, 44: 0.016344696106118054, 45: 0.03258428714524197, 46: 0.011214475346770461}\n"
          ]
        }
      ]
    },
    {
      "cell_type": "code",
      "source": [
        "# Step 7: Sort sentences by score\n",
        "ranked_sentences = sorted(scores.items(), key=lambda x: x[1], reverse=True)\n",
        "# Display sentences along with their ranking and score\n",
        "for rank, (sentence_index, score) in enumerate(ranked_sentences, start=1):\n",
        "    print(f\"Rank {rank}: Sentence {sentence_index}, Score: {score:.4f}\")\n",
        "    print(spoken_content[sentence_index])"
      ],
      "metadata": {
        "colab": {
          "base_uri": "https://localhost:8080/"
        },
        "id": "Cl76vnmU1cML",
        "outputId": "edf3fa32-9c8d-4c83-c4b0-f215add4f101"
      },
      "execution_count": null,
      "outputs": [
        {
          "output_type": "stream",
          "name": "stdout",
          "text": [
            "Rank 1: Sentence 36, Score: 0.0355\n",
            " It has been properly moved and seconded that a resolution increasing the wheel tax by $10 to make up the state cut in education funding be passed. Any discussion? (At this point numerous county commissioners speak for and against increasing the wheel tax and making up the education cuts. This is the first time this resolution is under consideration.) Commissioner Hayes is recognized.\n",
            "Rank 2: Sentence 9, Score: 0.0351\n",
            " I second the motion.\n",
            "Rank 3: Sentence 10, Score: 0.0346\n",
            " This resolution has a motion and second. Will the clerk please take the vote.\n",
            "Rank 4: Sentence 39, Score: 0.0338\n",
            " Previous question has been moved and seconded. As you know, a motion for previous question, if passed by a two-thirds vote, will cut off further debate and require us to vote yes or no on the resolution before us. You should vote for this motion if you wish to cut off further debate of the wheel tax increase at this point. Will all those in favor of previous question please raise your hand? Will all those against please raise your hand? The vote is 17-2. Previous question passes. We are now on the motion to increase the wheel tax by $10 to make up the state cut in education funding. Will all those in favor please raise your hand? Will all those against please raise your hand? The vote is 17-2. This increase passes on first passage. Is there any other new business? Since no member is seeking recognition, are there announcements? Commissioner Hailey.\n",
            "Rank 5: Sentence 3, Score: 0.0326\n",
            " Seconded\n",
            "Rank 6: Sentence 45, Score: 0.0326\n",
            " Second.\n",
            "Rank 7: Sentence 31, Score: 0.0326\n",
            " Second\n",
            "Rank 8: Sentence 35, Score: 0.0326\n",
            " I second.\n",
            "Rank 9: Sentence 38, Score: 0.0326\n",
            " Second.\n",
            "Rank 10: Sentence 32, Score: 0.0310\n",
            " The motion has been made and seconded that the state match local litigation taxes be increased to the maximum amounts allowed by law with 25 percent of the proceeds from the increase in the tax on criminal cases in courts of record going to fund the sheriff's department. Will all those in favor please vote as the clerk calls your name, those in favor vote \"aye,\" those against vote \"no.\" Nine votes for, nine votes against, one not voting. The increase fails. We are now on new business. Commissioner Adkins, the first item on the agenda is yours.\n",
            "Rank 11: Sentence 17, Score: 0.0310\n",
            " Commissioner, you are out of order because this motion has not been seconded as needed before the floor is open for discussion or debate. Discussion will begin after we have a second. Is there a second?\n",
            "Rank 12: Sentence 25, Score: 0.0309\n",
            " A motion has been made and seconded to amend the motion to increase the state match local litigation taxes to the maximum amounts to require 25 percent of the proceeds from the increase in the tax on criminal cases in courts of record going to fund the sheriff's department. Any discussion? Will all those in favor please raise your hand? All those opposed please raise your hand. The amendment carries 17-2. We are now on the motion as amended. Any further discussion?\n",
            "Rank 13: Sentence 13, Score: 0.0301\n",
            " Commissioner McKee has moved to withdraw his motion to sell property near the airport. Seeing no objection, this motion is withdrawn. The next item on the agenda is Commissioner Rodgers'.\n",
            "Rank 14: Sentence 33, Score: 0.0244\n",
            " Each of you has previously received a copy of a resolution to increase the wheel tax by $10 to make up the state cut in education funding. I move adoption of this resolution.\n",
            "Rank 15: Sentence 18, Score: 0.0237\n",
            " For purposes of discussion, I second the motion.\n",
            "Rank 16: Sentence 22, Score: 0.0236\n",
            " I move an amendment to the motion to require 25 percent of the proceeds from the increase in the tax on criminal cases go to fund the sheriff's department.\n",
            "Rank 17: Sentence 4, Score: 0.0231\n",
            " It has been moved and seconded that the agenda be approved as received by the members. All those in favor signify by saying \"Aye\"?...Opposed by saying \"No\"?...The agenda is approved. You have received a copy of the minutes of the last meeting. Are there any corrections or additions to the meeting?\n",
            "Rank 18: Sentence 6, Score: 0.0225\n",
            " Thank you. If there are no objections, the minutes will be corrected to include the name of Commissioner McCroskey. Will the clerk please make this correction. Any further corrections? Seeing none, without objection the minutes will stand approved as read. (This is sort of a short cut way that is commonly used for approval of minutes and/or the agenda rather than requiring a motion and second.)\n",
            "Rank 19: Sentence 24, Score: 0.0222\n",
            " I second the amendment.\n",
            "Rank 20: Sentence 11, Score: 0.0216\n",
            " The resolution passes. We will now take up old business. At our last meeting, Commissioner McKee, your motion to sell property near the airport was deferred to this meeting. You are recognized.\n",
            "Rank 21: Sentence 14, Score: 0.0215\n",
            " I move adopton of the resolution previously provided to each of you to increase the state match local litigation tax in circuit, chancery, and criminal courts to the maximum amounts permissible. This resolution calls for the increases to go to the general fund.\n",
            "Rank 22: Sentence 12, Score: 0.0206\n",
            " I move to withdraw that motion.\n",
            "Rank 23: Sentence 15, Score: 0.0204\n",
            " Commissioner Duckett\n",
            "Rank 24: Sentence 21, Score: 0.0204\n",
            " Commissioner Duckett\n",
            "Rank 25: Sentence 2, Score: 0.0201\n",
            " So moved.\n",
            "Rank 26: Sentence 29, Score: 0.0194\n",
            " Other questions or discussion? Commissioner Adams.\n",
            "Rank 27: Sentence 41, Score: 0.0182\n",
            " Any other announcements? The next meeting of this body will be Monday, August 19 at 7 p.m., here in this room. Commissioner Carmical.\n",
            "Rank 28: Sentence 37, Score: 0.0180\n",
            " I move previous question.\n",
            "Rank 29: Sentence 30, Score: 0.0173\n",
            " Move for a roll call vote.\n",
            "Rank 30: Sentence 1, Score: 0.0166\n",
            " Each of you has received the agenda. I will entertain a motion that the agenda be approved.\n",
            "Rank 31: Sentence 44, Score: 0.0163\n",
            " Move adjournment.\n",
            "Rank 32: Sentence 7, Score: 0.0163\n",
            " Commissioner Adkins, the first item on the agenda is yours.\n",
            "Rank 33: Sentence 8, Score: 0.0161\n",
            " Mister Chairman, I would like to make a motion to approve the resolution taking money from the Data Processing Reserve Account in the County Clerk's office and moving it to the equipment line to purchase a laptop computer.\n",
            "Rank 34: Sentence 26, Score: 0.0160\n",
            " Does this require a two-thirds vote?\n",
            "Rank 35: Sentence 16, Score: 0.0155\n",
            " The sheriff is opposed to this increase.\n",
            "Rank 36: Sentence 19, Score: 0.0151\n",
            " Commissioner Rodgers is recognized.\n",
            "Rank 37: Sentence 0, Score: 0.0145\n",
            " This meeting of the CTAS County Commission will come to order. Clerk please call the role. (Ensure that a majority of the members are present.)\n",
            "Rank 38: Sentence 23, Score: 0.0143\n",
            " Commissioner Malone\n",
            "Rank 39: Sentence 34, Score: 0.0143\n",
            " Commissioner Thompson\n",
            "Rank 40: Sentence 43, Score: 0.0143\n",
            " Commissioner Austin.\n",
            "Rank 41: Sentence 28, Score: 0.0129\n",
            " Since these are only courts of record, a majority vote will pass it. The two-thirds requirement is for the general sessions taxes.\n",
            "Rank 42: Sentence 46, Score: 0.0112\n",
            " Without objection, the meeting will stand adjourned.\n",
            "Rank 43: Sentence 40, Score: 0.0111\n",
            " There will be a meeting of the Budget Committee to look at solid waste funding recommendations on Tuesday, July 16 at noon here in this room.\n",
            "Rank 44: Sentence 27, Score: 0.0103\n",
            " Will the county attorney answer that question?\n",
            "Rank 45: Sentence 20, Score: 0.0099\n",
            " (Speaks about the data on collections, handing out all sorts of numerical figures regarding the litigation tax, and the county's need for additional revenue.)\n",
            "Rank 46: Sentence 5, Score: 0.0070\n",
            " Mister Chairman, my name has been omitted from the Special Committee on Indigent Care.\n",
            "Rank 47: Sentence 42, Score: 0.0066\n",
            " There will be a chili supper at County Elementary School on August 16 at 6:30 p.m. Everyone is invited.\n"
          ]
        }
      ]
    },
    {
      "cell_type": "code",
      "source": [
        "# Step 8: Extract the top N sentences as the extractive summary\n",
        "num_sentences_in_extractive_summary = 5  # Adjust as needed\n",
        "extractive_summary = [spoken_content[sentence_index] for sentence_index, _ in ranked_sentences[:num_sentences_in_extractive_summary]]"
      ],
      "metadata": {
        "id": "XbwDPIp77zi1"
      },
      "execution_count": null,
      "outputs": []
    },
    {
      "cell_type": "markdown",
      "source": [
        "# Abstractive Summarization (Advanced NLP techniques needed)"
      ],
      "metadata": {
        "id": "Zujj1t6m1mY4"
      }
    },
    {
      "cell_type": "code",
      "source": [
        "# Print the extractive summary\n",
        "print(\"Extractive Summary:\")\n",
        "for sentence in extractive_summary:\n",
        "    print(sentence)"
      ],
      "metadata": {
        "colab": {
          "base_uri": "https://localhost:8080/"
        },
        "id": "wOZ9g2WU1p21",
        "outputId": "c7bef5ca-0d47-4d0a-e9a0-02f2f5635e37"
      },
      "execution_count": null,
      "outputs": [
        {
          "output_type": "stream",
          "name": "stdout",
          "text": [
            "Extractive Summary:\n",
            " It has been properly moved and seconded that a resolution increasing the wheel tax by $10 to make up the state cut in education funding be passed. Any discussion? (At this point numerous county commissioners speak for and against increasing the wheel tax and making up the education cuts. This is the first time this resolution is under consideration.) Commissioner Hayes is recognized.\n",
            " I second the motion.\n",
            " This resolution has a motion and second. Will the clerk please take the vote.\n",
            " Previous question has been moved and seconded. As you know, a motion for previous question, if passed by a two-thirds vote, will cut off further debate and require us to vote yes or no on the resolution before us. You should vote for this motion if you wish to cut off further debate of the wheel tax increase at this point. Will all those in favor of previous question please raise your hand? Will all those against please raise your hand? The vote is 17-2. Previous question passes. We are now on the motion to increase the wheel tax by $10 to make up the state cut in education funding. Will all those in favor please raise your hand? Will all those against please raise your hand? The vote is 17-2. This increase passes on first passage. Is there any other new business? Since no member is seeking recognition, are there announcements? Commissioner Hailey.\n",
            " Seconded\n"
          ]
        }
      ]
    },
    {
      "cell_type": "code",
      "source": [
        "# Step 9: ROUGE Metric Evaluation\n",
        "rouge = Rouge()\n",
        "reference_summary = \"\"\"In this CTAS County Commission meeting, Chairman Wormsley calls the meeting to order and seeks approval for the agenda.\n",
        "The minutes of the last meeting are reviewed, with a correction noted. Commissioner Adkins introduces a resolution to reallocate funds from the Data Processing Reserve Account for the purchase of a laptop.\n",
        "Commissioner McKee withdraws a motion to sell property near the airport.\n",
        "Commissioner Rodgers proposes increasing the state match local litigation tax, sparking a debate. Commissioner Duckett suggests an amendment to allocate 25 percent of the tax increase to fund the sheriff's department, which passes.\n",
        "However, the motion to increase taxes fails. New business involves increasing the wheel tax to offset education funding cuts, passing on first passage. The meeting ends with announcements and adjournment.\"\"\"\n",
        "\n",
        "scores = rouge.get_scores(\" \".join(extractive_summary), reference_summary)\n",
        "rouge_scores = scores[0]\n",
        "\n",
        "# Display the ROUGE Scores\n",
        "print(\"\\nROUGE Scores:\")\n",
        "for key, value in rouge_scores.items():\n",
        "    print(f\"{key}:\")\n",
        "    for subkey, subvalue in value.items():\n",
        "        print(f\"  {subkey}: {subvalue}\")"
      ],
      "metadata": {
        "colab": {
          "base_uri": "https://localhost:8080/"
        },
        "id": "Fzw8efBN1sV_",
        "outputId": "061a4c60-c3b2-4403-a296-56f68a809d15"
      },
      "execution_count": null,
      "outputs": [
        {
          "output_type": "stream",
          "name": "stdout",
          "text": [
            "\n",
            "ROUGE Scores:\n",
            "rouge-1:\n",
            "  r: 0.26666666666666666\n",
            "  p: 0.21818181818181817\n",
            "  f: 0.23999999505000008\n",
            "rouge-2:\n",
            "  r: 0.11666666666666667\n",
            "  p: 0.07692307692307693\n",
            "  f: 0.0927152269988161\n",
            "rouge-l:\n",
            "  r: 0.26666666666666666\n",
            "  p: 0.21818181818181817\n",
            "  f: 0.23999999505000008\n"
          ]
        }
      ]
    }
  ]
}